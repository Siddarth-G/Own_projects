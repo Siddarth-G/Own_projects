{
 "cells": [
  {
   "cell_type": "code",
   "execution_count": 2,
   "metadata": {},
   "outputs": [],
   "source": [
    "import re\n",
    "from nltk.stem.porter import PorterStemmer\n",
    "from sklearn.feature_extraction.text import TfidfVectorizer\n",
    "from sklearn.model_selection import train_test_split\n",
    "import pickle\n",
    "from sklearn.linear_model import LogisticRegressionCV\n",
    "\n",
    "\n"
   ]
  },
  {
   "cell_type": "code",
   "execution_count": 6,
   "metadata": {},
   "outputs": [],
   "source": [
    "import pandas as pd"
   ]
  },
  {
   "cell_type": "code",
   "execution_count": 7,
   "metadata": {},
   "outputs": [],
   "source": [
    "df = pd.read_csv(\"/Users/sanju/Desktop/Own Projects/data/corona_fake.csv\")\n"
   ]
  },
  {
   "cell_type": "code",
   "execution_count": 8,
   "metadata": {},
   "outputs": [],
   "source": [
    "df.loc[df['label'] == 'Fake', ['label']] = 'FAKE'\n",
    "df.loc[df['label'] == 'fake', ['label']] = 'FAKE'\n",
    "df.loc[df['source'] == 'facebook', ['source']] = 'Facebook'\n",
    "df.text.fillna(df.title, inplace=True)\n",
    "\n",
    "df.loc[5]['label'] = 'FAKE'\n",
    "df.loc[15]['label'] = 'TRUE'\n",
    "df.loc[43]['label'] = 'FAKE'\n",
    "df.loc[131]['label'] = 'TRUE'\n",
    "df.loc[242]['label'] = 'FAKE'\n",
    "\n",
    "df = df.sample(frac=1).reset_index(drop=True)\n",
    "df.title.fillna('missing', inplace=True)\n",
    "df.source.fillna('missing', inplace=True)\n",
    "\n",
    "df['title_text'] = df['title'] + ' ' + df['text']"
   ]
  },
  {
   "cell_type": "code",
   "execution_count": 9,
   "metadata": {},
   "outputs": [
    {
     "data": {
      "text/plain": [
       "TRUE    586\n",
       "FAKE    578\n",
       "Name: label, dtype: int64"
      ]
     },
     "execution_count": 9,
     "metadata": {},
     "output_type": "execute_result"
    }
   ],
   "source": [
    "df['label'].value_counts()"
   ]
  },
  {
   "cell_type": "code",
   "execution_count": 10,
   "metadata": {},
   "outputs": [
    {
     "data": {
      "text/html": [
       "<div>\n",
       "<style scoped>\n",
       "    .dataframe tbody tr th:only-of-type {\n",
       "        vertical-align: middle;\n",
       "    }\n",
       "\n",
       "    .dataframe tbody tr th {\n",
       "        vertical-align: top;\n",
       "    }\n",
       "\n",
       "    .dataframe thead th {\n",
       "        text-align: right;\n",
       "    }\n",
       "</style>\n",
       "<table border=\"1\" class=\"dataframe\">\n",
       "  <thead>\n",
       "    <tr style=\"text-align: right;\">\n",
       "      <th></th>\n",
       "      <th>title</th>\n",
       "      <th>text</th>\n",
       "      <th>source</th>\n",
       "      <th>label</th>\n",
       "      <th>title_text</th>\n",
       "    </tr>\n",
       "  </thead>\n",
       "  <tbody>\n",
       "    <tr>\n",
       "      <th>0</th>\n",
       "      <td>DEPOP TAG-TEAM: Anthony Fauci joins Bill Gates...</td>\n",
       "      <td>In lockstep with Mr. Microsoft (Bill Gates) hi...</td>\n",
       "      <td>https://www.naturalnews.com/</td>\n",
       "      <td>FAKE</td>\n",
       "      <td>DEPOP TAG-TEAM: Anthony Fauci joins Bill Gates...</td>\n",
       "    </tr>\n",
       "    <tr>\n",
       "      <th>1</th>\n",
       "      <td>dr fauci caught sponsoring wuhan lab millions</td>\n",
       "      <td>But just last year, the National Institute for...</td>\n",
       "      <td>https://www.citadelpoliticss.com/</td>\n",
       "      <td>FAKE</td>\n",
       "      <td>dr fauci caught sponsoring wuhan lab millions ...</td>\n",
       "    </tr>\n",
       "    <tr>\n",
       "      <th>2</th>\n",
       "      <td>Are there any specific medicines to prevent or...</td>\n",
       "      <td>To date, there is no specific medicine recomme...</td>\n",
       "      <td>https://www.who.int/</td>\n",
       "      <td>TRUE</td>\n",
       "      <td>Are there any specific medicines to prevent or...</td>\n",
       "    </tr>\n",
       "    <tr>\n",
       "      <th>3</th>\n",
       "      <td>Should I go to the doctor or dentist for nonur...</td>\n",
       "      <td>During this period of social distancing, it is...</td>\n",
       "      <td>https://www.health.harvard.edu/</td>\n",
       "      <td>TRUE</td>\n",
       "      <td>Should I go to the doctor or dentist for nonur...</td>\n",
       "    </tr>\n",
       "    <tr>\n",
       "      <th>4</th>\n",
       "      <td>Do we know if the virus can enter through the ...</td>\n",
       "      <td>There is no evidence yet that SARS-CoV-2, the ...</td>\n",
       "      <td>https://www.globalhealthnow.org/</td>\n",
       "      <td>TRUE</td>\n",
       "      <td>Do we know if the virus can enter through the ...</td>\n",
       "    </tr>\n",
       "  </tbody>\n",
       "</table>\n",
       "</div>"
      ],
      "text/plain": [
       "                                               title  \\\n",
       "0  DEPOP TAG-TEAM: Anthony Fauci joins Bill Gates...   \n",
       "1      dr fauci caught sponsoring wuhan lab millions   \n",
       "2  Are there any specific medicines to prevent or...   \n",
       "3  Should I go to the doctor or dentist for nonur...   \n",
       "4  Do we know if the virus can enter through the ...   \n",
       "\n",
       "                                                text  \\\n",
       "0  In lockstep with Mr. Microsoft (Bill Gates) hi...   \n",
       "1  But just last year, the National Institute for...   \n",
       "2  To date, there is no specific medicine recomme...   \n",
       "3  During this period of social distancing, it is...   \n",
       "4  There is no evidence yet that SARS-CoV-2, the ...   \n",
       "\n",
       "                              source label  \\\n",
       "0       https://www.naturalnews.com/  FAKE   \n",
       "1  https://www.citadelpoliticss.com/  FAKE   \n",
       "2               https://www.who.int/  TRUE   \n",
       "3    https://www.health.harvard.edu/  TRUE   \n",
       "4   https://www.globalhealthnow.org/  TRUE   \n",
       "\n",
       "                                          title_text  \n",
       "0  DEPOP TAG-TEAM: Anthony Fauci joins Bill Gates...  \n",
       "1  dr fauci caught sponsoring wuhan lab millions ...  \n",
       "2  Are there any specific medicines to prevent or...  \n",
       "3  Should I go to the doctor or dentist for nonur...  \n",
       "4  Do we know if the virus can enter through the ...  "
      ]
     },
     "execution_count": 10,
     "metadata": {},
     "output_type": "execute_result"
    }
   ],
   "source": [
    "df.head()"
   ]
  },
  {
   "cell_type": "code",
   "execution_count": 11,
   "metadata": {},
   "outputs": [
    {
     "data": {
      "text/plain": [
       "\"SARS-CoV-2 — A Biological Warfare Weapon? SARS-CoV-2 — A Biological Warfare Weapon. “Novel coronavirus” means it is a new virus not previously known to previously infect humans. The currently held conventional view is that SARS-CoV-2 was transmitted through animals (zoonotic transmission), specifically bats. Boyle dismissed this notion in our initial interview, and still refutes the idea. While a widely-cited paper,2 published in the Nature journal on February 3, 2020, claims to establish that SARS-CoV-2 is a coronavirus of bat origin that then jumped species, the work of one of the authors of that paper, Shi Zhengli, actually involved the weaponization of the SARS virus. (Another Nature paper3 published that same day reiterates the idea that the COVID-19 pandemic is zoonotically transmitted.) However, according to Boyle, other scientific literature establishes that this is indeed an engineered synthetic virus that was not transmitted from animals to humans without human intervention. For starters, a Lancet paper4 published February 15, 2020, by physicians who treated some of the first COVID-19 patients in China showed that patient zero, the one believed to have started the transmission, was nowhere near the Wuhan seafood market. What’s more, there were no bats sold in or even close to the market. At least one-third of the patients reviewed also had no exposure or links to that market. This data supports the counter-hypothesis that SARS-CoV-2 was not zoonotically transmitted but is in fact an engineered virus. Even U.S. politicians and intelligence agencies are starting to say they believe the virus leaked from the Wuhan BSL4 lab.5,6 In our first interview, Boyle discussed published research establishing that the novel coronavirus is SARS, which is a weaponized version of the coronavirus to begin with Wuhan BSL 4 lab, with added gain-of-function capabilities that increases its virulence (makes it spread easier and faster). “I also went through the scientific article where the Australian health board working with Wuhan … genetically engineered HIV into SARS,” Boyle says. “So, that is all verified in scientific papers. In addition, it seems to me that they took that back to the [Wuhan] BSL4 and applied nanotechnology to it. The size of the molecules are maybe 120 microns, which indicates to me we are dealing with nanotechnology. That's [something] you need to do in a BSL4. Biological weapons nanotechnology is so dangerous, people working with it have to wear a moon suit with portable air. We also know that one of the cooperating institutions [to Wuhan BSL4] was Harvard, and that the chairman of the Harvard chemistry department, [Dr. Charles Lieber], a specialist in nanotechnology, set up an entire laboratory in Wuhan where [according to reports] he specialized in applying nanotechnology to chemistry and biology. My guess is, based on what I've read in the literature, that they tried to weaponize all that together. And that is SARS-CoV-2 that we are dealing with now. So, it's SARS, which is genetically engineered biowarfare agent to begin with. Second, it has gain-of-function properties, which makes it more lethal, more infectious. It has HIV in there. That was confirmed by an Indian scientist … and it looks like nanotechnology [has been used] … An MIT scientist who did a study found that it traveled 27 feet through the air. And that, I guess, was in lab conditions.That, I think, is why it's so infectious, and that is what I believe we are dealing with here … [This is] why the 6-foot [social distancing recommendation] by the CDC … is preposterous. Even doubling that will do you no good. If there is nanotechnology, it floats in the air. I am not saying that China deliberately released this, shooting itself in the foot. But it was clear they were developing an extremely dangerous unknown biological weapon that had never been seen before, and it leaked out of the lab.And as you see in the Washington Post,7 U.S. State Department officials … [reported] back to Washington that there were inadequate safety precautions and procedures in that lab to begin with. We also know that SARS has leaked out of other Chinese biological warfare labs. So right now, I believe that is what happened here. I personally believe that until our political leaders come clean with the American people, both at the White House and in Congress and our state government, and publicly admit that this is an extremely dangerous offensive biological warfare weapon that we are dealing with, I do not see that we will be able to confront it and to stop it, let alone defeat it.”Advertisement. Click here to learn more about Earth Day. The Origin of SARS-CoV-2. While Boyle made the origin of SARS-CoV-2 clear in our initial conversation, as I started reading some of the literature it really was shocking because one of the primary investigators on the 2015 paper8 from the University of North Carolina — “A SARS-like Cluster of Circulating Bat Coronaviruses Shows Potential for Human Emergence” — was Dr. Shi Zhengli, a virologist who in 2010 had published a paper9 discussing the weaponization of the SARS virus. Normally, while the coronavirus found in bats may be SARS,10 it typically does not infect humans as it does not target the ACE-2 receptor. The infectious agent causing the current pandemic is called SARS-CoV-2 — SARS standing for “serious acute respiratory infection” and CoV-2 indicating that it’s a second type of SARS coronavirus known to infect humans. SARS-CoV-2, of course, contains the genetic modification to attach to ACE2 receptors in human cells, which allows it to infect them. Zhengli’s publications show that she engineered this bat coronavirus into one that crosses species and infects humans. She has in fact been working on this for more than 10 years. “That is why I said SARS was a bioengineered warfare weapon to begin with,” Boyle says. “And that is what … [the University of] North Carolina and … the Australian lab were trying to make even more dangerous with the gain-of-function and the HIV. So … SARS was a biological warfare [agent] to begin with, it leaked, and that is the origin of the [COVID-19] epidemic.” In addition, an Indian paper11,12 that ended up being withdrawn due to intense political pressure, shows a specific envelope protein from the HIV virus called GP41 was integrated in the RNA sequences of SARS-CoV-2. In other words, the implication is that the HIV virus was genetically engineered into SARS. So, in summary, SARS-CoV-2 appears to be a bioengineered bat coronavirus13 — which was initially benign and nontransmittable to humans. Zhengli then genetically modified the virus to integrate spike proteins that allows the virus to enter human cells by attaching to ACE-2 receptors. That was the first modification.\\nThe second modification was to integrate an envelope protein from HIV called GP141, which tends to impair the immune system. A third modification appears to involve nanotechnology to make the virus light enough to remain airborne for a long time, apparently giving it a range of up to 27 feet.14. Nanotech Expert With Wuhan Connection Arrested While the BSL4 lab in Wuhan may have leaked the virus, its creation does not appear to be limited to the Chinese. As noted by Boyle in his comment above, the chairman of the Harvard department of chemistry, nanoscience expert Dr. Charles Lieber, was arrested earlier this year by federal agencies, suspected of illegal dealings with China.15 Lieber has denied the allegations. The Wuhan University of Technology (WUT) allegedly paid him $50,000 a month from 2012 to 2017 to help establish and oversee the WUT-Harvard Joint Nano Key Laboratory. He also received another $150,000 a month in living expenses from China’s Thousand Talents program. The problem was, Harvard officials claim they had not approved the lab and didn’t know about it until 2015. Boyle comments: “The cover story here — that Harvard didn't know what was going on — is preposterous. I spent seven years at Harvard. I have three degrees from Harvard. I spent two years teaching at Harvard. Of course Harvard knew that its chair of the chemistry department had this lab in Wuhan, China, where he was working on nanotechnology with respect to chemical and biological materials. That's been reported. They didn't say what the materials were. In addition, it has now been reported that Harvard was a cooperating institution with the Wuhan BSL4.” Researchers Working on Gain-of-Function to Spanish Flu. If you think SARS-CoV-2 is bad, be glad it’s not the weaponized version of Spanish flu, which has also been in the works, according to Boyle. He says: “[The University of North Carolina’s] work was existentially dangerous and they knew it at the time. If you read the UNC scientific article16 [cowritten by] the Wuhan BSL4 scientist [Shi Zhengli] … it says, ‘Experiments with the full-length and chimeric SHC014 recombinant viruses were initiated and performed before the GOF research funding pause and have since been reviewed and approved for continued study by the NIH.’ It says recombinant … So, they admit it was gain-of-function [research]. [The research] was paused by NIH17 [National Institutes of Health]. Why was it paused by NIH? Because there was a letter put out by large numbers of life scientists at the time saying this type of gain-of-function work … could be existentially dangerous if it got out in the public. Therefore, it had to be terminated … [But] the NIH was funding this in the beginning. A footnote here: I read the NIH’s pause letter to the University of North Carolina, and UNC was doing two gain-of-function research projects. The other one was with Dr. [Yoshihiro] Kawaoka from the University of Wisconsin, who had resurrected the Spanish flu virus18 for the Pentagon. He, according to the pause letter, was also there doing gain-of-function work on the flu virus — one could only conclude it was the Spanish flu virus. It did not say the Spanish flu, but they also put a gain-of-function pause on that type of deadly research. I mean, the Spanish flu, we all know what that is, so imagine giving the Spanish flu gain-of-function properties, making it even more lethal and more infectious. That's exactly what was going on there at that UNC lab …” Disturbingly, while the NIH halted funding of this kind of gain-of-function research on lethal pathogens in 2014, it reauthorized it in December 2017,19 and Boyle suspects Kawaoka’s work may have been restarted as well, although he’s not found proof of it yet. “So, this was existentially dangerous work that was going on at that UNC lab. Everyone knew it, NIH funded it, NIAID under Dr. Fauci funded it as well. They knew exactly how dangerous this was. They paused it and then they resumed it,” Boyle says. Can Violations of Biowarfare Treaty Be Enforced? As mentioned, Boyle is a professor of international law and drafted an international treaty on biowarfare agents and weapons. That law is still in force, and would provide life imprisonment for everyone involved in the creation and release of SARS-CoV-2, were it officially concluded to be a biowarfare agent. “If you read that UNC article,20 it says exactly it was dealing with synthetic molecules … And in my biological weapons anti-terrorism act of 1989, I specifically criminalized — by that name — synthetic molecules. That is why, at first, the whole synthetic biology movement … was set up by the Pentagons DARPA. They funded the whole thing. And it's DARPA money that is behind synthetic biology, gene drive and all the rest of it. And that is why at the first convention of synthetic biologists, in their final report, one of their key recommendations was the repeal of my biological weapons anti-terrorism act, because they fully intended to use synthetic biology to manufacture biological weapons. The law still applies. It provides for life imprisonment for everyone who has done this … all the scientists involved at the University of North Carolina and everyone who funded this project, knowing that it was existentially dangerous — and that includes Fauci and [people at] the NIH … UNC, Food and Drug Administration … the Dana Harvard Cancer Institute at Harvard … the World Health Organization …”So, just how would we get that process of justice going? Boyle explains: “There are two ways. First, you're going to have to pressure the Department of Justice to prosecute these people. That might be very difficult to do. Federal statutes require indictments to be brought by U.S. attorneys. However, just with respect to North Carolina, state law applies there too. I haven't researched North Carolina law; however, I was originally hired here to teach criminal law and I taught it for seven or eight years. To have criminal intent, one of the variants of criminal intent is the demonstration of grave indifference to human life. And that is the criminal intent necessary for homicide. So in my opinion, and my advice would be, if we can't get [attorney general William Pelham] Barr to sign off on prosecuting these people, that the district attorney, state’s attorney, attorney general out there in North Carolina, institute and indict everyone involved in this North Carolina work for homicide. And that could include up to and including murder, malice of forethought. Again, one of the elements can be manifestation of grave indifference to human life. And it's clear from this article [the 2015 UNC paper21], they knew it was gain-of-function, they paused it because it was existentially dangerous, it was then reapproved and they continued it. So, I think a good case could be made, certainly, for indicting these people under North Carolina law by North Carolina legal authorities, if the federal government is not going to do it for us, under my law [the Biological Weapons Anti-Terrorism Act of 1989]. But again, I want to make it clear, I haven't research North Carolina law.”Time to Shutter All BSL4 Laboratories? Boyle is adamant that all BSL3 and BSL4 laboratories must be closed down and all biowarfare work with lethal pathogens ceased. “They are all existentially dangerous,” he says. “This is a catastrophe waiting to happen. And it is now happened. Here we are. It's staring us in the face.” Certainly, COVID-19 is nowhere near as devastating as the Black Death or the Spanish flu of 1918, both of which exacted a shocking death toll, all without the aid of synthetic molecules and nanotechnology. The very idea that any of these horrific illnesses might be brought back in turbo-charged form should be terrifying enough for the world to unite in saying “No thanks; we don’t want or need that kind of research going on.” What value have these dangerous laboratories provided to date compared to the risk they are exposing all of us to?In closing, while Boyle believes COVID-19 has the ability to become a serious pandemic killer, I strongly disagree. Based on all the data I’ve seen so far, I believe he’s wrong on this point, and I suspect the death toll due to economic hardship and emotional stress will be far worse than the disease itself.\""
      ]
     },
     "execution_count": 11,
     "metadata": {},
     "output_type": "execute_result"
    }
   ],
   "source": [
    "df['title_text'][50]\n"
   ]
  },
  {
   "cell_type": "code",
   "execution_count": 12,
   "metadata": {},
   "outputs": [],
   "source": [
    "def preprocessor(text):\n",
    "    \n",
    "    text = re.sub('<[^>]*>', '', text)\n",
    "    text = re.sub(r'[^\\w\\s]','', text)\n",
    "    text = text.lower()\n",
    "\n",
    "    return text"
   ]
  },
  {
   "cell_type": "code",
   "execution_count": 13,
   "metadata": {},
   "outputs": [],
   "source": [
    "df['title_text'] = df['title_text'].apply(preprocessor)"
   ]
  },
  {
   "cell_type": "code",
   "execution_count": 14,
   "metadata": {},
   "outputs": [
    {
     "data": {
      "text/plain": [
       "'sarscov2  a biological warfare weapon sarscov2  a biological warfare weapon novel coronavirus means it is a new virus not previously known to previously infect humans the currently held conventional view is that sarscov2 was transmitted through animals zoonotic transmission specifically bats boyle dismissed this notion in our initial interview and still refutes the idea while a widelycited paper2 published in the nature journal on february 3 2020 claims to establish that sarscov2 is a coronavirus of bat origin that then jumped species the work of one of the authors of that paper shi zhengli actually involved the weaponization of the sars virus another nature paper3 published that same day reiterates the idea that the covid19 pandemic is zoonotically transmitted however according to boyle other scientific literature establishes that this is indeed an engineered synthetic virus that was not transmitted from animals to humans without human intervention for starters a lancet paper4 published february 15 2020 by physicians who treated some of the first covid19 patients in china showed that patient zero the one believed to have started the transmission was nowhere near the wuhan seafood market whats more there were no bats sold in or even close to the market at least onethird of the patients reviewed also had no exposure or links to that market this data supports the counterhypothesis that sarscov2 was not zoonotically transmitted but is in fact an engineered virus even us politicians and intelligence agencies are starting to say they believe the virus leaked from the wuhan bsl4 lab56 in our first interview boyle discussed published research establishing that the novel coronavirus is sars which is a weaponized version of the coronavirus to begin with wuhan bsl 4 lab with added gainoffunction capabilities that increases its virulence makes it spread easier and faster i also went through the scientific article where the australian health board working with wuhan  genetically engineered hiv into sars boyle says so that is all verified in scientific papers in addition it seems to me that they took that back to the wuhan bsl4 and applied nanotechnology to it the size of the molecules are maybe 120 microns which indicates to me we are dealing with nanotechnology thats something you need to do in a bsl4 biological weapons nanotechnology is so dangerous people working with it have to wear a moon suit with portable air we also know that one of the cooperating institutions to wuhan bsl4 was harvard and that the chairman of the harvard chemistry department dr charles lieber a specialist in nanotechnology set up an entire laboratory in wuhan where according to reports he specialized in applying nanotechnology to chemistry and biology my guess is based on what ive read in the literature that they tried to weaponize all that together and that is sarscov2 that we are dealing with now so its sars which is genetically engineered biowarfare agent to begin with second it has gainoffunction properties which makes it more lethal more infectious it has hiv in there that was confirmed by an indian scientist  and it looks like nanotechnology has been used  an mit scientist who did a study found that it traveled 27 feet through the air and that i guess was in lab conditionsthat i think is why its so infectious and that is what i believe we are dealing with here  this is why the 6foot social distancing recommendation by the cdc  is preposterous even doubling that will do you no good if there is nanotechnology it floats in the air i am not saying that china deliberately released this shooting itself in the foot but it was clear they were developing an extremely dangerous unknown biological weapon that had never been seen before and it leaked out of the laband as you see in the washington post7 us state department officials  reported back to washington that there were inadequate safety precautions and procedures in that lab to begin with we also know that sars has leaked out of other chinese biological warfare labs so right now i believe that is what happened here i personally believe that until our political leaders come clean with the american people both at the white house and in congress and our state government and publicly admit that this is an extremely dangerous offensive biological warfare weapon that we are dealing with i do not see that we will be able to confront it and to stop it let alone defeat itadvertisement click here to learn more about earth day the origin of sarscov2 while boyle made the origin of sarscov2 clear in our initial conversation as i started reading some of the literature it really was shocking because one of the primary investigators on the 2015 paper8 from the university of north carolina  a sarslike cluster of circulating bat coronaviruses shows potential for human emergence  was dr shi zhengli a virologist who in 2010 had published a paper9 discussing the weaponization of the sars virus normally while the coronavirus found in bats may be sars10 it typically does not infect humans as it does not target the ace2 receptor the infectious agent causing the current pandemic is called sarscov2  sars standing for serious acute respiratory infection and cov2 indicating that its a second type of sars coronavirus known to infect humans sarscov2 of course contains the genetic modification to attach to ace2 receptors in human cells which allows it to infect them zhenglis publications show that she engineered this bat coronavirus into one that crosses species and infects humans she has in fact been working on this for more than 10 years that is why i said sars was a bioengineered warfare weapon to begin with boyle says and that is what  the university of north carolina and  the australian lab were trying to make even more dangerous with the gainoffunction and the hiv so  sars was a biological warfare agent to begin with it leaked and that is the origin of the covid19 epidemic in addition an indian paper1112 that ended up being withdrawn due to intense political pressure shows a specific envelope protein from the hiv virus called gp41 was integrated in the rna sequences of sarscov2 in other words the implication is that the hiv virus was genetically engineered into sars so in summary sarscov2 appears to be a bioengineered bat coronavirus13  which was initially benign and nontransmittable to humans zhengli then genetically modified the virus to integrate spike proteins that allows the virus to enter human cells by attaching to ace2 receptors that was the first modification\\nthe second modification was to integrate an envelope protein from hiv called gp141 which tends to impair the immune system a third modification appears to involve nanotechnology to make the virus light enough to remain airborne for a long time apparently giving it a range of up to 27 feet14 nanotech expert with wuhan connection arrested while the bsl4 lab in wuhan may have leaked the virus its creation does not appear to be limited to the chinese as noted by boyle in his comment above the chairman of the harvard department of chemistry nanoscience expert dr charles lieber was arrested earlier this year by federal agencies suspected of illegal dealings with china15 lieber has denied the allegations the wuhan university of technology wut allegedly paid him 50000 a month from 2012 to 2017 to help establish and oversee the wutharvard joint nano key laboratory he also received another 150000 a month in living expenses from chinas thousand talents program the problem was harvard officials claim they had not approved the lab and didnt know about it until 2015 boyle comments the cover story here  that harvard didnt know what was going on  is preposterous i spent seven years at harvard i have three degrees from harvard i spent two years teaching at harvard of course harvard knew that its chair of the chemistry department had this lab in wuhan china where he was working on nanotechnology with respect to chemical and biological materials thats been reported they didnt say what the materials were in addition it has now been reported that harvard was a cooperating institution with the wuhan bsl4 researchers working on gainoffunction to spanish flu if you think sarscov2 is bad be glad its not the weaponized version of spanish flu which has also been in the works according to boyle he says the university of north carolinas work was existentially dangerous and they knew it at the time if you read the unc scientific article16 cowritten by the wuhan bsl4 scientist shi zhengli  it says experiments with the fulllength and chimeric shc014 recombinant viruses were initiated and performed before the gof research funding pause and have since been reviewed and approved for continued study by the nih it says recombinant  so they admit it was gainoffunction research the research was paused by nih17 national institutes of health why was it paused by nih because there was a letter put out by large numbers of life scientists at the time saying this type of gainoffunction work  could be existentially dangerous if it got out in the public therefore it had to be terminated  but the nih was funding this in the beginning a footnote here i read the nihs pause letter to the university of north carolina and unc was doing two gainoffunction research projects the other one was with dr yoshihiro kawaoka from the university of wisconsin who had resurrected the spanish flu virus18 for the pentagon he according to the pause letter was also there doing gainoffunction work on the flu virus  one could only conclude it was the spanish flu virus it did not say the spanish flu but they also put a gainoffunction pause on that type of deadly research i mean the spanish flu we all know what that is so imagine giving the spanish flu gainoffunction properties making it even more lethal and more infectious thats exactly what was going on there at that unc lab  disturbingly while the nih halted funding of this kind of gainoffunction research on lethal pathogens in 2014 it reauthorized it in december 201719 and boyle suspects kawaokas work may have been restarted as well although hes not found proof of it yet so this was existentially dangerous work that was going on at that unc lab everyone knew it nih funded it niaid under dr fauci funded it as well they knew exactly how dangerous this was they paused it and then they resumed it boyle says can violations of biowarfare treaty be enforced as mentioned boyle is a professor of international law and drafted an international treaty on biowarfare agents and weapons that law is still in force and would provide life imprisonment for everyone involved in the creation and release of sarscov2 were it officially concluded to be a biowarfare agent if you read that unc article20 it says exactly it was dealing with synthetic molecules  and in my biological weapons antiterrorism act of 1989 i specifically criminalized  by that name  synthetic molecules that is why at first the whole synthetic biology movement  was set up by the pentagons darpa they funded the whole thing and its darpa money that is behind synthetic biology gene drive and all the rest of it and that is why at the first convention of synthetic biologists in their final report one of their key recommendations was the repeal of my biological weapons antiterrorism act because they fully intended to use synthetic biology to manufacture biological weapons the law still applies it provides for life imprisonment for everyone who has done this  all the scientists involved at the university of north carolina and everyone who funded this project knowing that it was existentially dangerous  and that includes fauci and people at the nih  unc food and drug administration  the dana harvard cancer institute at harvard  the world health organization so just how would we get that process of justice going boyle explains there are two ways first youre going to have to pressure the department of justice to prosecute these people that might be very difficult to do federal statutes require indictments to be brought by us attorneys however just with respect to north carolina state law applies there too i havent researched north carolina law however i was originally hired here to teach criminal law and i taught it for seven or eight years to have criminal intent one of the variants of criminal intent is the demonstration of grave indifference to human life and that is the criminal intent necessary for homicide so in my opinion and my advice would be if we cant get attorney general william pelham barr to sign off on prosecuting these people that the district attorney states attorney attorney general out there in north carolina institute and indict everyone involved in this north carolina work for homicide and that could include up to and including murder malice of forethought again one of the elements can be manifestation of grave indifference to human life and its clear from this article the 2015 unc paper21 they knew it was gainoffunction they paused it because it was existentially dangerous it was then reapproved and they continued it so i think a good case could be made certainly for indicting these people under north carolina law by north carolina legal authorities if the federal government is not going to do it for us under my law the biological weapons antiterrorism act of 1989 but again i want to make it clear i havent research north carolina lawtime to shutter all bsl4 laboratories boyle is adamant that all bsl3 and bsl4 laboratories must be closed down and all biowarfare work with lethal pathogens ceased they are all existentially dangerous he says this is a catastrophe waiting to happen and it is now happened here we are its staring us in the face certainly covid19 is nowhere near as devastating as the black death or the spanish flu of 1918 both of which exacted a shocking death toll all without the aid of synthetic molecules and nanotechnology the very idea that any of these horrific illnesses might be brought back in turbocharged form should be terrifying enough for the world to unite in saying no thanks we dont want or need that kind of research going on what value have these dangerous laboratories provided to date compared to the risk they are exposing all of us toin closing while boyle believes covid19 has the ability to become a serious pandemic killer i strongly disagree based on all the data ive seen so far i believe hes wrong on this point and i suspect the death toll due to economic hardship and emotional stress will be far worse than the disease itself'"
      ]
     },
     "execution_count": 14,
     "metadata": {},
     "output_type": "execute_result"
    }
   ],
   "source": [
    "df['title_text'][50]"
   ]
  },
  {
   "cell_type": "code",
   "execution_count": 15,
   "metadata": {},
   "outputs": [],
   "source": [
    "porter = PorterStemmer()\n",
    "\n",
    "def tokenizer_porter(text):\n",
    "    return [porter.stem(word) for word in text.split()]"
   ]
  },
  {
   "cell_type": "code",
   "execution_count": 16,
   "metadata": {},
   "outputs": [],
   "source": [
    "tfidf = TfidfVectorizer(strip_accents=None,\n",
    "                        lowercase=False,\n",
    "                        preprocessor=None,\n",
    "                        tokenizer=tokenizer_porter,\n",
    "                        use_idf=True,\n",
    "                        norm='l2',\n",
    "                        smooth_idf=True)\n",
    "X = tfidf.fit_transform(df['title_text'])\n",
    "y = df.label.values"
   ]
  },
  {
   "cell_type": "code",
   "execution_count": 17,
   "metadata": {},
   "outputs": [
    {
     "name": "stderr",
     "output_type": "stream",
     "text": [
      "[Parallel(n_jobs=-1)]: Using backend LokyBackend with 16 concurrent workers.\n",
      "[Parallel(n_jobs=-1)]: Done   2 out of   5 | elapsed:    2.0s remaining:    3.0s\n",
      "[Parallel(n_jobs=-1)]: Done   5 out of   5 | elapsed:    2.0s finished\n"
     ]
    }
   ],
   "source": [
    "X_train, X_test, y_train, y_test = train_test_split(X, y, random_state=0, test_size=0.5, shuffle=False)\n",
    "\n",
    "clf = LogisticRegressionCV(cv=5, scoring='accuracy', random_state=0, n_jobs=-1, verbose=3, max_iter=300).fit(X_train, y_train)\n",
    "\n",
    "fake_news_model = open('fake_news_model.sav', 'wb')\n",
    "pickle.dump(clf, fake_news_model)\n",
    "fake_news_model.close()"
   ]
  },
  {
   "cell_type": "code",
   "execution_count": 18,
   "metadata": {},
   "outputs": [
    {
     "data": {
      "text/plain": [
       "0.9106529209621993"
      ]
     },
     "execution_count": 18,
     "metadata": {},
     "output_type": "execute_result"
    }
   ],
   "source": [
    "filename = 'fake_news_model.sav'\n",
    "saved_clf = pickle.load(open(filename, 'rb'))\n",
    "\n",
    "saved_clf.score(X_test, y_test)"
   ]
  },
  {
   "cell_type": "code",
   "execution_count": 19,
   "metadata": {},
   "outputs": [
    {
     "name": "stdout",
     "output_type": "stream",
     "text": [
      "---Test Set Results---\n",
      "Accuracy with logreg: 0.9106529209621993\n",
      "              precision    recall  f1-score   support\n",
      "\n",
      "        FAKE       0.91      0.91      0.91       289\n",
      "        TRUE       0.91      0.91      0.91       293\n",
      "\n",
      "    accuracy                           0.91       582\n",
      "   macro avg       0.91      0.91      0.91       582\n",
      "weighted avg       0.91      0.91      0.91       582\n",
      "\n"
     ]
    }
   ],
   "source": [
    "from sklearn.metrics import classification_report, accuracy_score\n",
    "y_pred = clf.predict(X_test)\n",
    "print(\"---Test Set Results---\")\n",
    "print(\"Accuracy with logreg: {}\".format(accuracy_score(y_test, y_pred)))\n",
    "print(classification_report(y_test, y_pred))"
   ]
  },
  {
   "cell_type": "code",
   "execution_count": null,
   "metadata": {},
   "outputs": [],
   "source": []
  }
 ],
 "metadata": {
  "kernelspec": {
   "display_name": "Python 3",
   "language": "python",
   "name": "python3"
  },
  "language_info": {
   "codemirror_mode": {
    "name": "ipython",
    "version": 3
   },
   "file_extension": ".py",
   "mimetype": "text/x-python",
   "name": "python",
   "nbconvert_exporter": "python",
   "pygments_lexer": "ipython3",
   "version": "3.7.6"
  }
 },
 "nbformat": 4,
 "nbformat_minor": 4
}
